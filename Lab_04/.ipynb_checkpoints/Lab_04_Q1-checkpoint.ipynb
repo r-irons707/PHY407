{
 "cells": [
  {
   "cell_type": "code",
   "execution_count": 1,
   "id": "ef79f95a",
   "metadata": {},
   "outputs": [],
   "source": [
    "import numpy as np\n",
    "import matplotlib.pyplot as plt\n",
    "import SolveLinear"
   ]
  },
  {
   "cell_type": "code",
   "execution_count": 3,
   "id": "ea7ebc96",
   "metadata": {
    "scrolled": true
   },
   "outputs": [
    {
     "data": {
      "text/plain": [
       "array([ 2., -1., -2.,  1.])"
      ]
     },
     "execution_count": 3,
     "metadata": {},
     "output_type": "execute_result"
    }
   ],
   "source": [
    "# we want to get the solution\n",
    "# w = 2, x = -1 = y = -2, z = 1\n",
    "\n",
    "A = np.array([[2,1,4,1],[3,4,-1,-1],[1,-4,1,5],[2,-2,1,3]],float)\n",
    "V = np.array([-4,3,9,7],float)\n",
    "solve = SolveLinear.GaussElim(A, V)\n",
    "solve"
   ]
  }
 ],
 "metadata": {
  "kernelspec": {
   "display_name": "Python 3 (ipykernel)",
   "language": "python",
   "name": "python3"
  },
  "language_info": {
   "codemirror_mode": {
    "name": "ipython",
    "version": 3
   },
   "file_extension": ".py",
   "mimetype": "text/x-python",
   "name": "python",
   "nbconvert_exporter": "python",
   "pygments_lexer": "ipython3",
   "version": "3.9.12"
  }
 },
 "nbformat": 4,
 "nbformat_minor": 5
}
