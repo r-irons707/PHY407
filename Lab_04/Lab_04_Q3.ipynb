{
 "cells": [
  {
   "cell_type": "code",
   "execution_count": 2,
   "id": "9a0c11a8",
   "metadata": {},
   "outputs": [],
   "source": [
    "import numpy as np\n",
    "import matplotlib.pyplot as plt"
   ]
  },
  {
   "cell_type": "markdown",
   "id": "46d7d2d0",
   "metadata": {},
   "source": [
    "### Part a\n",
    "\n",
    "#### Exercise 6.10 parts a,b"
   ]
  },
  {
   "cell_type": "code",
   "execution_count": 20,
   "id": "3b6f8800",
   "metadata": {},
   "outputs": [],
   "source": [
    "def func(x):\n",
    "    '''function we wish to find the solution to'''\n",
    "    return 1 - np.exp(-2*x)\n",
    "def func_c(x,c):\n",
    "    '''function we wish to find the solution to'''\n",
    "    return 1 - np.exp(-2*c*x)"
   ]
  },
  {
   "cell_type": "code",
   "execution_count": 39,
   "id": "bcc29103",
   "metadata": {},
   "outputs": [
    {
     "name": "stdout",
     "output_type": "stream",
     "text": [
      "0.7968121299824948\n",
      "5.4816040595540017e-11\n"
     ]
    },
    {
     "data": {
      "image/png": "[encoded data removed]",
      "text/plain": [
       "<Figure size 504x504 with 1 Axes>"
      ]
     },
     "metadata": {
      "needs_background": "light"
     },
     "output_type": "display_data"
    }
   ],
   "source": [
    "# part a\n",
    "x = 0.5  # initial x guess\n",
    "dx = 1  # initial distance (just needs to be big)\n",
    "threshold = 1e-10  # convergence threshold\n",
    "x_list = [x]  # will fill up with successive x's\n",
    "\n",
    "while dx > threshold:\n",
    "    x_list.append(func(x_list[-1]))\n",
    "    dx = np.abs(x_list[-1] - x_list[-2])\n",
    "print(x_list[-1])\n",
    "accuracy = x_list[-1] - x_list[-2]\n",
    "print(accuracy)\n",
    "\n",
    "    \n",
    "# part b\n",
    "keep_x = []\n",
    "c = np.arange(0,3.01,0.01) # range of values we want to calculate c\n",
    "for i in range(len(c)):\n",
    "    x_values = [x] # updated to fill with successive x values\n",
    "    dx_c = 1 # initial distance (just needs to be big)\n",
    "    threshold_c = 1e-10 # convergence threshold\n",
    "    while dx_c > threshold_c:\n",
    "        x_values.append(func_c(x_values[-1],c[i]))\n",
    "        dx_c = np.abs(x_values[-1] - x_values[-2])\n",
    "    keep_x.append(x_values[-1])\n",
    "\n",
    "fig = plt.figure(figsize=(7,7))\n",
    "plt.plot(c,keep_x)\n",
    "plt.xlabel('c values from 0 to 3, step size = 0.01',fontsize=15)\n",
    "plt.ylabel('solution of x',fontsize=15)\n",
    "plt.savefig('q3_parta.pdf')\n",
    "plt.show()"
   ]
  },
  {
   "cell_type": "markdown",
   "id": "edce87df",
   "metadata": {},
   "source": [
    "### Part b\n",
    "\n",
    "#### Exercise 6.11, parts b,c,d"
   ]
  },
  {
   "cell_type": "code",
   "execution_count": 41,
   "id": "7f91129e",
   "metadata": {},
   "outputs": [
    {
     "name": "stdout",
     "output_type": "stream",
     "text": [
      "0.7968121299824948\n",
      "5.4816040595540017e-11\n"
     ]
    }
   ],
   "source": [
    "# part b\n",
    "x = 0.5  # initial x guess\n",
    "dx = 1  # initial distance (just needs to be big)\n",
    "threshold = 1e-10  # convergence threshold\n",
    "x_list = [x]  # will fill up with successive x's\n",
    "\n",
    "while dx > threshold:\n",
    "    x_list.append(func(x_list[-1]))\n",
    "    dx = np.abs(x_list[-1] - x_list[-2])\n",
    "print(x_list[-1])\n",
    "accuracy = x_list[-1] - x_list[-2]\n",
    "print(accuracy)"
   ]
  }
 ],
 "metadata": {
  "kernelspec": {
   "display_name": "Python 3 (ipykernel)",
   "language": "python",
   "name": "python3"
  },
  "language_info": {
   "codemirror_mode": {
    "name": "ipython",
    "version": 3
   },
   "file_extension": ".py",
   "mimetype": "text/x-python",
   "name": "python",
   "nbconvert_exporter": "python",
   "pygments_lexer": "ipython3",
   "version": "3.9.12"
  }
 },
 "nbformat": 4,
 "nbformat_minor": 5
}
