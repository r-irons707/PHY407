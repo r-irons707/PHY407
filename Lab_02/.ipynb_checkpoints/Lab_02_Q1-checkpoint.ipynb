{
 "cells": [
  {
   "cell_type": "markdown",
   "id": "1f36087c",
   "metadata": {},
   "source": [
    "### Question 1"
   ]
  },
  {
   "cell_type": "code",
   "execution_count": 1,
   "id": "66b0a7f0",
   "metadata": {},
   "outputs": [],
   "source": [
    "# libraries used to complete the assignment\n",
    "import numpy as np\n",
    "import matplotlib.pyplot as plt"
   ]
  },
  {
   "cell_type": "markdown",
   "id": "6b5fad01",
   "metadata": {},
   "source": [
    "#### Part a"
   ]
  },
  {
   "cell_type": "code",
   "execution_count": 2,
   "id": "594d4fab",
   "metadata": {},
   "outputs": [],
   "source": [
    "# pseudocode for testing relative error comparing two different methods for calcing stdev's\n",
    "\n",
    "# first calc eq 1, true value y\n",
    "# not initially functions, but made it easier to work with to convert them to functions\n",
    "# first we want to define a name, i just called it eq1 for simplicity\n",
    "# then we want to have 2 for loops, one for calculating the mean, then another to use that calculated mean in order to find the\n",
    "# std\n",
    "# define some inital values for our loops to work with, like length of the data for how long the loop runs and a summation\n",
    "# mean for loop\n",
    "# update the mean sum depending on the index of the data\n",
    "# exit the loop and divide by the total length of the data\n",
    "# for the second loop we take the difference between the ith data point and the mean sum in the first loop, updating an inital\n",
    "# value as we go\n",
    "# use eq1 to calculate the std and return the value\n",
    "\n",
    "# second calc eq 2, wrong value x\n",
    "# define the similar initial values as eq1 function\n",
    "# enter for loop to calculate the sum of squares of each of the data points and the sum of each of the data points\n",
    "# exit loop and compute the square of the mean to use in the std\n",
    "# calculate the std using eq2"
   ]
  },
  {
   "cell_type": "markdown",
   "id": "ce18fed0",
   "metadata": {},
   "source": [
    "#### Part b"
   ]
  },
  {
   "cell_type": "code",
   "execution_count": 3,
   "id": "3c64acb8",
   "metadata": {},
   "outputs": [
    {
     "name": "stdout",
     "output_type": "stream",
     "text": [
      "The relative error of eq1 measured with respect to np.std -1.7564474859226715e-16\n",
      "The relative error of eq2 measured with respect to np.std 3.740397602946237e-09\n"
     ]
    }
   ],
   "source": [
    "c_data = np.loadtxt('cdata.txt')\n",
    "c_stderr = np.std(c_data,ddof=1)\n",
    "\n",
    "# code for eq1 implementation, i initially had them as for loops but converted both methods to functions for ease in part c\n",
    "def eq1(data):\n",
    "    '''finds the std of a data set using eq 1 (two pass method)'''\n",
    "    N = len(data)\n",
    "    eq1_meansum = 0\n",
    "    eq2_sum = 0\n",
    "    eq1_stdsum = 0\n",
    "\n",
    "    for i in range(N):\n",
    "        eq1_meansum += data[i]\n",
    "    eq1_mean = (1/N)*eq1_meansum # calculates the mean of the data set using eq 1\n",
    "\n",
    "    for i in range(N):\n",
    "        eq1_stdsum += (data[i] - eq1_mean)**2  \n",
    "    eq1_std = np.sqrt((1/(N-1))*eq1_stdsum)\n",
    "    \n",
    "    return eq1_std\n",
    "\n",
    "# calculating relative error for eq 1 with respect to np.std\n",
    "eq1_std = eq1(c_data)\n",
    "eq1_relerr = (eq1_std - c_stderr)/c_stderr\n",
    "print('The relative error of eq1 measured with respect to np.std',eq1_relerr)\n",
    "\n",
    "# code for eq2 implementation\n",
    "def eq2(data):\n",
    "    '''finds the std of a data set using eq 2 (one pass method)'''\n",
    "    N = len(data)\n",
    "    sum_1 = 0\n",
    "    sum_2 = 0\n",
    "    for i in range(N):\n",
    "        sum_1 += data[i]**2\n",
    "        sum_2 += data[i]\n",
    "    sum_2 = (sum_2/N)**2\n",
    "    term1 = sum_1\n",
    "    term2 = N*sum_2\n",
    "    diff = term1 - term2\n",
    "    eq2_std = np.sqrt(diff/(N-1))\n",
    "    \n",
    "    return eq2_std\n",
    "\n",
    "# calculating relative error for eq 2 with respect to np.std\n",
    "eq2_std = eq2(c_data)\n",
    "eq2_relerr = (eq2_std - c_stderr)/c_stderr\n",
    "print('The relative error of eq2 measured with respect to np.std',eq2_relerr)\n",
    "\n",
    "# eq1 has a lesser magnitude of relative error as opposed to eq2\n"
   ]
  },
  {
   "cell_type": "markdown",
   "id": "b436459a",
   "metadata": {},
   "source": [
    "#### Part c"
   ]
  },
  {
   "cell_type": "code",
   "execution_count": 4,
   "id": "9009e7ec",
   "metadata": {},
   "outputs": [
    {
     "name": "stdout",
     "output_type": "stream",
     "text": [
      "standard deviation using eq 1 on norm1 0.9828020204078078 and norm2 1.0025777767898763\n",
      "standard deviation using eq 2 on norm1 0.9828020204078068 and norm2 0.6326137052341065\n",
      "standard deviation using numpy function np.std on nor 1 0.982556289182462\n",
      "standard deviation using numpy funciton np.std on nor 2 1.0023271010072876\n",
      "the relative error of eq 1 against the numpy function for norm 1 is 0.00025009378907985116 and 0.00025009378908015376 for norm2\n",
      "the relative error of eq 1 against the numpy function for norm 1 is -0.019479749255366895 and -0.36885503285468185 for norm2\n"
     ]
    }
   ],
   "source": [
    "# creating the two distributions\n",
    "nor1 = np.random.normal(loc=0.,scale=1.,size=2000)\n",
    "nor2 = np.random.normal(loc=1e7,scale=1.,size=2000)\n",
    "\n",
    "# calling our methods for eq 1 and 2 on the normal distributions\n",
    "eq1_actingon_nor1 = eq1(nor1)\n",
    "eq1_actingon_nor2 = eq1(nor2)\n",
    "eq2_actingon_nor1 = eq2(nor1)\n",
    "eq2_actingon_nor2 = eq2(nor2)\n",
    "numpystdmethod_nor1 = np.std(nor1)\n",
    "numpystdmethod_nor2 = np.std(nor2)\n",
    "\n",
    "# taking a look at the outputted std's given by eq1,2, and numpy\n",
    "print('standard deviation using eq 1 on norm1',eq1_actingon_nor1,'and norm2',eq1_actingon_nor2)\n",
    "print('standard deviation using eq 2 on norm1',eq2_actingon_nor1,'and norm2',eq2_actingon_nor2)\n",
    "print('standard deviation using numpy function np.std on nor 1',numpystdmethod_nor1)\n",
    "print('standard deviation using numpy funciton np.std on nor 2',numpystdmethod_nor2)\n",
    "\n",
    "# now computing relative error or the eq1 and 2 method against numpy\n",
    "eq1_relerr_norm1 = (eq1_actingon_nor1 - numpystdmethod_nor1)/numpystdmethod_nor1\n",
    "eq1_relerr_norm2 = (eq1_actingon_nor2 - numpystdmethod_nor2)/numpystdmethod_nor2\n",
    "eq2_relerr_norm1 = (eq2_actingon_nor1 - numpystdmethod_nor2)/numpystdmethod_nor2\n",
    "eq2_relerr_norm2 = (eq2_actingon_nor2 - numpystdmethod_nor2)/numpystdmethod_nor2\n",
    "\n",
    "# printing out our final results for the relative error\n",
    "print('the relative error of eq 1 against the numpy function for norm 1 is',eq1_relerr_norm1,'and',eq1_relerr_norm2,'for norm2')\n",
    "print('the relative error of eq 1 against the numpy function for norm 1 is',eq2_relerr_norm1,'and',eq2_relerr_norm2,'for norm2')"
   ]
  },
  {
   "cell_type": "markdown",
   "id": "358173ce",
   "metadata": {},
   "source": [
    "#### Part d"
   ]
  },
  {
   "cell_type": "code",
   "execution_count": 7,
   "id": "7d6bde19",
   "metadata": {},
   "outputs": [
    {
     "name": "stdout",
     "output_type": "stream",
     "text": [
      "0.982802020407809\n",
      "1.0025777767898756\n"
     ]
    }
   ],
   "source": [
    "# in the pdf write up\n",
    "def eq2_updated(data):\n",
    "    '''finds the std of a data set using eq 2 (one pass method)'''\n",
    "    N = len(data)\n",
    "    median_data = np.median(data)\n",
    "    data = data - median_data # here we correct for bigger values by subtracting off the median of the data so our std can take\n",
    "    # in smaller decimal place values to obtain a better std.\n",
    "    sum_1 = 0\n",
    "    sum_2 = 0\n",
    "    for i in range(N):\n",
    "        sum_1 += data[i]**2\n",
    "        sum_2 += data[i]\n",
    "    sum_2 = (sum_2/N)**2\n",
    "    term1 = sum_1\n",
    "    term2 = N*sum_2\n",
    "    diff = term1 - term2\n",
    "    eq2_std = np.sqrt(diff/(N-1))\n",
    "    \n",
    "    return eq2_std\n",
    "\n",
    "eq2updated_actingon_nor1 = eq2_updated(nor1)\n",
    "eq2updated_actingon_nor2 = eq2_updated(nor2)\n",
    "print(eq2updated_actingon_nor1)\n",
    "print(eq2updated_actingon_nor2)"
   ]
  }
 ],
 "metadata": {
  "kernelspec": {
   "display_name": "Python 3 (ipykernel)",
   "language": "python",
   "name": "python3"
  },
  "language_info": {
   "codemirror_mode": {
    "name": "ipython",
    "version": 3
   },
   "file_extension": ".py",
   "mimetype": "text/x-python",
   "name": "python",
   "nbconvert_exporter": "python",
   "pygments_lexer": "ipython3",
   "version": "3.9.12"
  }
 },
 "nbformat": 4,
 "nbformat_minor": 5
}
