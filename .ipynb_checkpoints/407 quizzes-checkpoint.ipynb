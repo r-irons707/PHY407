{
 "cells": [
  {
   "cell_type": "code",
   "execution_count": 1,
   "id": "a00bfc5e",
   "metadata": {},
   "outputs": [
    {
     "data": {
      "text/plain": [
       "True"
      ]
     },
     "execution_count": 1,
     "metadata": {},
     "output_type": "execute_result"
    }
   ],
   "source": [
    "i = 15;\n",
    "j = 19;\n",
    "k = (i**2*j)//(256*4)\n",
    "int(float((i**2*j)//(256*4))) == k"
   ]
  },
  {
   "cell_type": "code",
   "execution_count": 2,
   "id": "f804cb59",
   "metadata": {},
   "outputs": [
    {
     "data": {
      "text/plain": [
       "0"
      ]
     },
     "execution_count": 2,
     "metadata": {},
     "output_type": "execute_result"
    }
   ],
   "source": [
    "i = 15;\n",
    "j = 19;\n",
    "k = (i**2*j)//(256*4)\n",
    "int(float(i)/float(j))"
   ]
  },
  {
   "cell_type": "code",
   "execution_count": 3,
   "id": "e9a936a7",
   "metadata": {},
   "outputs": [
    {
     "data": {
      "text/plain": [
       "False"
      ]
     },
     "execution_count": 3,
     "metadata": {},
     "output_type": "execute_result"
    }
   ],
   "source": [
    "i = 15;\n",
    "j = 19;\n",
    "k = (i**2*j)//(256*4)\n",
    "(i**2//256)*(j//4) == k"
   ]
  },
  {
   "cell_type": "code",
   "execution_count": 12,
   "id": "2bcca6f7",
   "metadata": {},
   "outputs": [
    {
     "name": "stderr",
     "output_type": "stream",
     "text": [
      "C:\\Users\\riron\\anaconda3\\lib\\site-packages\\matplotlib\\cbook\\__init__.py:1298: ComplexWarning: Casting complex values to real discards the imaginary part\n",
      "  return np.asarray(x, float)\n"
     ]
    },
    {
     "data": {
      "image/png": "[encoded data removed]",
      "text/plain": [
       "<Figure size 504x504 with 1 Axes>"
      ]
     },
     "metadata": {
      "needs_background": "light"
     },
     "output_type": "display_data"
    },
    {
     "name": "stdout",
     "output_type": "stream",
     "text": [
      "the index is (array([4], dtype=int64),)\n"
     ]
    }
   ],
   "source": [
    "import numpy as np\n",
    "from numpy.fft import rfft\n",
    "import matplotlib.pyplot as plt\n",
    "N = 1000\n",
    "n = np.linspace(0,N,N)\n",
    "func = np.sin((8*n*np.pi)/N)\n",
    "x = rfft(func)\n",
    "fig = plt.figure(figsize=(7,7))\n",
    "plt.plot(x)\n",
    "plt.show()\n",
    "\n",
    "index = np.where(x == np.max(x))\n",
    "print('the index is',index)"
   ]
  },
  {
   "cell_type": "code",
   "execution_count": 13,
   "id": "792e723e",
   "metadata": {},
   "outputs": [
    {
     "name": "stdout",
     "output_type": "stream",
     "text": [
      "[0.+0.j 0.-2.j 0.+0.j 0.+2.j]\n"
     ]
    }
   ],
   "source": [
    "array = [0.0, 1.0, 0.0, -1.0]\n",
    "fast_fourier = np.fft.fft(array)\n",
    "print(fast_fourier)"
   ]
  }
 ],
 "metadata": {
  "kernelspec": {
   "display_name": "Python 3 (ipykernel)",
   "language": "python",
   "name": "python3"
  },
  "language_info": {
   "codemirror_mode": {
    "name": "ipython",
    "version": 3
   },
   "file_extension": ".py",
   "mimetype": "text/x-python",
   "name": "python",
   "nbconvert_exporter": "python",
   "pygments_lexer": "ipython3",
   "version": "3.9.12"
  }
 },
 "nbformat": 4,
 "nbformat_minor": 5
}
